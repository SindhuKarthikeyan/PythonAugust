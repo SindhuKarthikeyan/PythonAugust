{
 "cells": [
  {
   "cell_type": "code",
   "execution_count": 1,
   "metadata": {},
   "outputs": [
    {
     "name": "stdout",
     "output_type": "stream",
     "text": [
      "[1, 4, 9, 16, 25, 36, 49]\n"
     ]
    }
   ],
   "source": [
    "input = [1, 2, 3, 4, 5, 6, 7]\n",
    "output = [number ** 2 for number in input]\n",
    "print(output)\n",
    "\n"
   ]
  },
  {
   "cell_type": "code",
   "execution_count": 2,
   "metadata": {},
   "outputs": [
    {
     "name": "stdout",
     "output_type": "stream",
     "text": [
      "The tuple after concatenation is : ('Hello', 'Hi', 'Divya', 'Sam')\n"
     ]
    }
   ],
   "source": [
    "list1 = (\"Hello\", \"Hi\")\n",
    "list2 = (\"Divya\", \"Sam\")\n",
    "out=(list1 + list2)\n",
    "print(\"The tuple after concatenation is : \" + str(out)) "
   ]
  },
  {
   "cell_type": "code",
   "execution_count": 3,
   "metadata": {},
   "outputs": [
    {
     "name": "stdout",
     "output_type": "stream",
     "text": [
      "1\n",
      "12\n",
      "123\n",
      "1234\n",
      "12345\n"
     ]
    }
   ],
   "source": [
    "rows = 5\n",
    "for i in range(1, rows+1):\n",
    "    for j in range(1, i + 1):\n",
    "        print(j,end=\"\")\n",
    "    print(\"\")\n",
    "   "
   ]
  },
  {
   "cell_type": "code",
   "execution_count": 4,
   "metadata": {},
   "outputs": [
    {
     "name": "stdout",
     "output_type": "stream",
     "text": [
      "Sindhu\n",
      "uhdniS\n"
     ]
    }
   ],
   "source": [
    "txt = \"Sindhu\"\n",
    "print(txt)\n",
    "print(txt[::-1])"
   ]
  },
  {
   "cell_type": "code",
   "execution_count": 5,
   "metadata": {},
   "outputs": [
    {
     "name": "stdout",
     "output_type": "stream",
     "text": [
      "listed input:\n",
      "[('a', 32), ('b', 54), ('c', 19), ('d', 43)]\n",
      "sorted input\n",
      "[('a', 32), ('b', 54), ('c', 19), ('d', 43)]\n"
     ]
    }
   ],
   "source": [
    "tuple= (('a',32),('b',54),('c',19),('d',43))\n",
    "input= list(tuple)\n",
    "print(\"listed input:\")\n",
    "print(input)\n",
    "input.sort()\n",
    "print(\"sorted input\")\n",
    "print(input)"
   ]
  },
  {
   "cell_type": "code",
   "execution_count": null,
   "metadata": {},
   "outputs": [],
   "source": []
  }
 ],
 "metadata": {
  "kernelspec": {
   "display_name": "Python 3",
   "language": "python",
   "name": "python3"
  },
  "language_info": {
   "codemirror_mode": {
    "name": "ipython",
    "version": 3
   },
   "file_extension": ".py",
   "mimetype": "text/x-python",
   "name": "python",
   "nbconvert_exporter": "python",
   "pygments_lexer": "ipython3",
   "version": "3.8.3"
  }
 },
 "nbformat": 4,
 "nbformat_minor": 4
}
