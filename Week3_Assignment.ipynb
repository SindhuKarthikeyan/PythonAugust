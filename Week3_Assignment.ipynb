{
 "cells": [
  {
   "cell_type": "code",
   "execution_count": null,
   "metadata": {},
   "outputs": [],
   "source": [
    "# Daily Question 12\n",
    "# Create a new list contains the elements only starts with'A' using filter option\n",
    "# input = [\"Apple\",\"Banana\",\"Guava\",\"Apricot\",\"Mango\",\"Avocados\"]\n",
    "# output= ['Apple','Apricot','Avocados']"
   ]
  },
  {
   "cell_type": "code",
   "execution_count": 9,
   "metadata": {},
   "outputs": [
    {
     "name": "stdout",
     "output_type": "stream",
     "text": [
      "['Banana', 'Guava', 'Mango']\n"
     ]
    }
   ],
   "source": [
    "input=[\"Apple\",\"Banana\",\"Guava\",\"Apricot\",\"Mango\",\"Avocados\"]\n",
    "letter='A'\n",
    "output = list(filter(lambda x: not x.startswith(letter), input))\n",
    "print(output)"
   ]
  },
  {
   "cell_type": "code",
   "execution_count": 11,
   "metadata": {},
   "outputs": [],
   "source": [
    "# Daily Question 13\n",
    "# Map function that returns squares of the items in the list\n",
    "lst1=[20,40,60,80,100,120]"
   ]
  },
  {
   "cell_type": "code",
   "execution_count": 14,
   "metadata": {},
   "outputs": [
    {
     "data": {
      "text/plain": [
       "[400, 1600, 3600, 6400, 10000, 14400]"
      ]
     },
     "execution_count": 14,
     "metadata": {},
     "output_type": "execute_result"
    }
   ],
   "source": [
    "list(map(lambda a:a**2 , lst1))"
   ]
  },
  {
   "cell_type": "code",
   "execution_count": 15,
   "metadata": {},
   "outputs": [],
   "source": [
    "# Daily Question 14\n",
    "# create a child class lion that will inherit all of the variables and methods of animal class\n"
   ]
  },
  {
   "cell_type": "code",
   "execution_count": 17,
   "metadata": {},
   "outputs": [
    {
     "name": "stdout",
     "output_type": "stream",
     "text": [
      "Animal is Eating\n",
      "Lion is Roaring\n",
      "Animal is Running\n"
     ]
    }
   ],
   "source": [
    "class Animal:\n",
    "    \n",
    "        \n",
    "    def eat(self):\n",
    "        print(\"Animal is Eating\")   \n",
    "        \n",
    "    def run(self):\n",
    "        print(\"Animal is Running\")\n",
    "class Lion(Animal):\n",
    "   \n",
    "        \n",
    "#     def eat(self):\n",
    "#         print(\"Lion is Eating\")    \n",
    "        \n",
    "    def roar(self):\n",
    "        print(\"Lion is Roaring\")\n",
    "l = Lion()\n",
    "l.eat()\n",
    "l.roar()\n",
    "l.run()"
   ]
  },
  {
   "cell_type": "code",
   "execution_count": 18,
   "metadata": {},
   "outputs": [],
   "source": [
    "# Daily Question 15\n",
    "# create 2 classes named Dog,Cat and declare constructors to assigning name and age.\n",
    "# Defina a methods colour and sound in both classes and print Dog and Cat's colour and sound"
   ]
  },
  {
   "cell_type": "code",
   "execution_count": 47,
   "metadata": {},
   "outputs": [],
   "source": [
    "class Animal:\n",
    "    def __init__(self,age=0):\n",
    "       \n",
    "        self.age = age\n",
    "\n",
    "    def setAge(self, age):\n",
    "        self.age = age\n",
    "    def getAge(self):\n",
    "        return self.age\n",
    "\n",
    "\n",
    "\n",
    "class Dog(Animal):\n",
    "    def dog_Sound(self):\n",
    "        print(\"LOL! LOL! LOL!\")\n",
    "        \n",
    "    def dog_colour(self):\n",
    "        print(\"Dog is black\")   \n",
    "        \n",
    "class Cat(Animal):\n",
    "    def cat_Sound(self):\n",
    "        print(\"Meow! Meow! Meow!\")\n",
    "        \n",
    "    def cat_colour(self):\n",
    "        print(\"Cat is white\")  \n",
    "    "
   ]
  },
  {
   "cell_type": "code",
   "execution_count": 48,
   "metadata": {},
   "outputs": [
    {
     "name": "stdout",
     "output_type": "stream",
     "text": [
      "Dogs Age::::::::\n",
      "5\n",
      "LOL! LOL! LOL!\n",
      "Dog is black\n",
      "Cats Age::::::::\n",
      "6\n",
      "Meow! Meow! Meow!\n",
      "Cat is white\n"
     ]
    }
   ],
   "source": [
    "d = Dog()    \n",
    "\n",
    "d.setAge(5)  \n",
    "print(\"Dogs Age::::::::\")\n",
    "print(d.age)  \n",
    "d.dog_Sound() \n",
    "d.dog_colour()\n",
    "\n",
    "\n",
    "c= Cat()\n",
    "c.setAge(6) \n",
    "print(\"Cats Age::::::::\")\n",
    "print(c.age) \n",
    "c.cat_Sound()\n",
    "c.cat_colour()\n"
   ]
  },
  {
   "cell_type": "code",
   "execution_count": 49,
   "metadata": {},
   "outputs": [],
   "source": [
    "# Daily Question 15\n",
    "# Create class Base_1 ,Base_2\n",
    "# Create another class child and inherit the above 2 classes \n",
    "# Create object for child class and call all 3 class methods"
   ]
  },
  {
   "cell_type": "code",
   "execution_count": 50,
   "metadata": {},
   "outputs": [
    {
     "name": "stdout",
     "output_type": "stream",
     "text": [
      "Im from Base_1\n",
      "Im from Base_2\n"
     ]
    }
   ],
   "source": [
    "class Base_1:\n",
    "    \n",
    "    def a(self):\n",
    "        print(\"Im from Base_1\")\n",
    "        \n",
    "class Base_2:\n",
    "    \n",
    "    def b(self):\n",
    "        print(\"Im from Base_2\")\n",
    "        \n",
    "class Child(Base_1,Base_2):\n",
    "    pass\n",
    "\n",
    "x=Child()\n",
    "x.a()\n",
    "x.b()\n",
    "    \n",
    "    "
   ]
  },
  {
   "cell_type": "code",
   "execution_count": null,
   "metadata": {},
   "outputs": [],
   "source": []
  }
 ],
 "metadata": {
  "kernelspec": {
   "display_name": "Python 3",
   "language": "python",
   "name": "python3"
  },
  "language_info": {
   "codemirror_mode": {
    "name": "ipython",
    "version": 3
   },
   "file_extension": ".py",
   "mimetype": "text/x-python",
   "name": "python",
   "nbconvert_exporter": "python",
   "pygments_lexer": "ipython3",
   "version": "3.8.3"
  }
 },
 "nbformat": 4,
 "nbformat_minor": 4
}
