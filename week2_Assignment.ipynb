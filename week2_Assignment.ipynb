{
 "cells": [
  {
   "cell_type": "code",
   "execution_count": 31,
   "metadata": {},
   "outputs": [],
   "source": [
    "# day7 create a prog to add even number as a seperate set from existing set\n",
    "set={23,52,24,75,46,91}\n"
   ]
  },
  {
   "cell_type": "code",
   "execution_count": 34,
   "metadata": {},
   "outputs": [
    {
     "name": "stdout",
     "output_type": "stream",
     "text": [
      "46\n",
      "52\n",
      "24\n"
     ]
    }
   ],
   "source": [
    "for i in set:\n",
    "    if(i%2==0):\n",
    "        print(i)\n",
    " # unable to get another set pls guide         "
   ]
  },
  {
   "cell_type": "code",
   "execution_count": 40,
   "metadata": {},
   "outputs": [],
   "source": [
    "# day9 to sort a list of tuples using lambda\n",
    "\n",
    "tuple1=[('Computer',76),('CPU',82),('Mouse',98),('Processor', 65)]\n",
    "\n",
    "#output = [('Processor', 65),('Computer',76),('CPU',82),('Mouse',98)]"
   ]
  },
  {
   "cell_type": "code",
   "execution_count": 50,
   "metadata": {},
   "outputs": [
    {
     "name": "stdout",
     "output_type": "stream",
     "text": [
      "[('Processor', 65), ('Computer', 76), ('CPU', 82), ('Mouse', 98)]\n"
     ]
    }
   ],
   "source": [
    "tuple1=[('Computer',76),('CPU',82),('Mouse',98),('Processor', 65)]\n",
    "tuple1.sort(key=lambda x : x[1])\n",
    "print(tuple1)"
   ]
  },
  {
   "cell_type": "code",
   "execution_count": 49,
   "metadata": {},
   "outputs": [
    {
     "name": "stdout",
     "output_type": "stream",
     "text": [
      "[('Processor', 65), ('Computer', 76), ('CPU', 82), ('Mouse', 98)]\n"
     ]
    }
   ],
   "source": [
    "print(tuple1)"
   ]
  },
  {
   "cell_type": "code",
   "execution_count": 51,
   "metadata": {},
   "outputs": [],
   "source": [
    "# day8 merge the following 2 python dict into one\n",
    "\n",
    "dict1={ 'June':110, 'August':220, 'May':330}\n",
    "dict2={'May':330 ,'December':440,'March':550}\n",
    "\n",
    "#output ={ 'June':110, 'August':220, 'May':330,'December':440,'March':550}"
   ]
  },
  {
   "cell_type": "code",
   "execution_count": 52,
   "metadata": {},
   "outputs": [
    {
     "name": "stdout",
     "output_type": "stream",
     "text": [
      "{'June': 110, 'August': 220, 'May': 330, 'December': 440, 'March': 550}\n"
     ]
    }
   ],
   "source": [
    "dict1.update(dict2)\n",
    "print(dict1)"
   ]
  },
  {
   "cell_type": "code",
   "execution_count": 53,
   "metadata": {},
   "outputs": [],
   "source": [
    "# day 10 write a python function to return a longest word from list of words\n",
    "\n",
    "input= [\"Welcome\",\"to\",\"Python\",\"World\"]\n",
    "#output= Welcome"
   ]
  },
  {
   "cell_type": "code",
   "execution_count": 58,
   "metadata": {},
   "outputs": [],
   "source": [
    "def to_return_longestword(input):\n",
    "    lst=[]\n",
    "    len_lst=len(input)\n",
    "    for i in range(0,len_lst):\n",
    "        lst.append(len(input[i]))\n",
    "    return(input[lst.index(max(lst))])   "
   ]
  },
  {
   "cell_type": "code",
   "execution_count": 59,
   "metadata": {},
   "outputs": [
    {
     "name": "stdout",
     "output_type": "stream",
     "text": [
      "Welcome\n"
     ]
    }
   ],
   "source": [
    "input= [\"Welcome\",\"to\",\"Python\",\"World\"]\n",
    "print(to_return_longestword(input))"
   ]
  },
  {
   "cell_type": "code",
   "execution_count": 60,
   "metadata": {},
   "outputs": [],
   "source": [
    "# to create a dict from a string\n",
    "input= \"Python World\"\n",
    "\n",
    "# output = {'P': 1, 'y': 1, 't': 1, 'h': 1, 'o': 2, 'n': 1, ' ': 1, 'W': 1, 'r': 1, 'l': 1, 'd': 1}"
   ]
  },
  {
   "cell_type": "code",
   "execution_count": 61,
   "metadata": {},
   "outputs": [
    {
     "name": "stdout",
     "output_type": "stream",
     "text": [
      "{'P': 1, 'y': 1, 't': 1, 'h': 1, 'o': 2, 'n': 1, ' ': 1, 'W': 1, 'r': 1, 'l': 1, 'd': 1}\n"
     ]
    }
   ],
   "source": [
    "input = \"Python World\"\n",
    "dict = {}\n",
    "for i in input:\n",
    "    dict[i] = dict.get(i, 0) + 1\n",
    "print(dict)"
   ]
  },
  {
   "cell_type": "code",
   "execution_count": null,
   "metadata": {},
   "outputs": [],
   "source": []
  }
 ],
 "metadata": {
  "kernelspec": {
   "display_name": "Python 3",
   "language": "python",
   "name": "python3"
  },
  "language_info": {
   "codemirror_mode": {
    "name": "ipython",
    "version": 3
   },
   "file_extension": ".py",
   "mimetype": "text/x-python",
   "name": "python",
   "nbconvert_exporter": "python",
   "pygments_lexer": "ipython3",
   "version": "3.8.3"
  }
 },
 "nbformat": 4,
 "nbformat_minor": 4
}
